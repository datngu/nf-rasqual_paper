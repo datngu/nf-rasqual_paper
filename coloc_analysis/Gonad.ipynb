{
 "cells": [
  {
   "cell_type": "code",
   "execution_count": 20,
   "id": "f5261aec-6352-4c2f-8855-0de8ca571c77",
   "metadata": {},
   "outputs": [],
   "source": [
    "import pandas as pd\n",
    "import numpy as np\n",
    "from utils import *"
   ]
  },
  {
   "cell_type": "code",
   "execution_count": 21,
   "id": "afd2b14d-05a6-4181-a80b-034af8e95333",
   "metadata": {},
   "outputs": [],
   "source": [
    "tis = 'gonad'"
   ]
  },
  {
   "cell_type": "code",
   "execution_count": 22,
   "id": "0339c9e8-46ab-41e4-9464-5219d4b1b445",
   "metadata": {},
   "outputs": [],
   "source": [
    "ld_file = f'{tis}.ld'"
   ]
  },
  {
   "cell_type": "code",
   "execution_count": 23,
   "id": "d997c0d7-dea0-47c9-9b99-9eccc0ff6d7b",
   "metadata": {},
   "outputs": [],
   "source": [
    "atac_res=f'../data/randomized_tie_lead_snps/{tis}_atac_randomized_tie_lead_snp.txt'\n",
    "rna_res=f'../data/randomized_tie_lead_snps/{tis}_rna_randomized_tie_lead_snp.txt'\n"
   ]
  },
  {
   "cell_type": "code",
   "execution_count": 24,
   "id": "9bbecfbb-42f2-4965-880b-388c1d8f8b43",
   "metadata": {},
   "outputs": [],
   "source": [
    "ld_dict = read_ld(ld_file)"
   ]
  },
  {
   "cell_type": "code",
   "execution_count": 25,
   "id": "f4c0fcce-45fa-4f08-a31e-e7e34acb4eb1",
   "metadata": {},
   "outputs": [],
   "source": [
    "atac = pd.read_csv(atac_res, sep = '\\t')\n",
    "rna = pd.read_csv(rna_res, sep = '\\t')"
   ]
  },
  {
   "cell_type": "code",
   "execution_count": 26,
   "id": "8bc104e1-d7e2-47b1-8dbe-45530fc247de",
   "metadata": {},
   "outputs": [],
   "source": [
    "rna_sig = rna[rna['BF'] < 0.1]"
   ]
  },
  {
   "cell_type": "code",
   "execution_count": 27,
   "id": "8a69d933-eb50-4785-9b85-04ecc3f105d1",
   "metadata": {},
   "outputs": [],
   "source": [
    "check_set = set(rna_sig['snps'])"
   ]
  },
  {
   "cell_type": "code",
   "execution_count": 28,
   "id": "64882ffa-452d-4729-a6ad-5f7bb41cb246",
   "metadata": {},
   "outputs": [],
   "source": [
    "def get_coloc(df, ld_dict):\n",
    "    res = []\n",
    "    for index, row in df.iterrows():\n",
    "        res.append(check_coloc(row.snps, check_set, ld_dict))\n",
    "    df['coloc'] = res\n",
    "    return df"
   ]
  },
  {
   "cell_type": "code",
   "execution_count": 29,
   "id": "a697f737-61c0-4c20-a470-e22c1a7bd7bc",
   "metadata": {},
   "outputs": [],
   "source": [
    "atac = get_coloc(atac, ld_dict)"
   ]
  },
  {
   "cell_type": "code",
   "execution_count": 30,
   "id": "b0c6d9d7-92d0-4b37-b3ed-719a028ba7eb",
   "metadata": {},
   "outputs": [],
   "source": [
    "atac_sig = atac[atac['BF'] < 0.1]"
   ]
  },
  {
   "cell_type": "code",
   "execution_count": 31,
   "id": "4cd355ef-4a1d-401c-9d7b-67f6f7730205",
   "metadata": {},
   "outputs": [],
   "source": [
    "n_coloc = (atac_sig.coloc > 0).sum()"
   ]
  },
  {
   "cell_type": "code",
   "execution_count": 32,
   "id": "496d558e-3e08-46e7-8212-c347010003fc",
   "metadata": {},
   "outputs": [],
   "source": [
    "N = len(atac_sig)"
   ]
  },
  {
   "cell_type": "code",
   "execution_count": 33,
   "id": "2f0b1c66-7a11-4c9c-8c35-1213abc5e12a",
   "metadata": {},
   "outputs": [
    {
     "data": {
      "text/html": [
       "<div>\n",
       "<style scoped>\n",
       "    .dataframe tbody tr th:only-of-type {\n",
       "        vertical-align: middle;\n",
       "    }\n",
       "\n",
       "    .dataframe tbody tr th {\n",
       "        vertical-align: top;\n",
       "    }\n",
       "\n",
       "    .dataframe thead th {\n",
       "        text-align: right;\n",
       "    }\n",
       "</style>\n",
       "<table border=\"1\" class=\"dataframe\">\n",
       "  <thead>\n",
       "    <tr style=\"text-align: right;\">\n",
       "      <th></th>\n",
       "      <th>snps</th>\n",
       "      <th>gene</th>\n",
       "      <th>statistic</th>\n",
       "      <th>pvalue</th>\n",
       "      <th>FDR</th>\n",
       "      <th>beta</th>\n",
       "      <th>BF</th>\n",
       "      <th>TESTS</th>\n",
       "      <th>coloc</th>\n",
       "    </tr>\n",
       "  </thead>\n",
       "  <tbody>\n",
       "    <tr>\n",
       "      <th>93686</th>\n",
       "      <td>16_66892200_C_T</td>\n",
       "      <td>Interval_236125:16:66899407:66900829:+:1423</td>\n",
       "      <td>9.051045</td>\n",
       "      <td>2.625447e-03</td>\n",
       "      <td>2.625447e-03</td>\n",
       "      <td>0.296784</td>\n",
       "      <td>0.036756</td>\n",
       "      <td>14</td>\n",
       "      <td>999</td>\n",
       "    </tr>\n",
       "    <tr>\n",
       "      <th>194900</th>\n",
       "      <td>24_45921124_A_T</td>\n",
       "      <td>Interval_414074:24:45910745:45912002:+:1258</td>\n",
       "      <td>11.044226</td>\n",
       "      <td>8.896384e-04</td>\n",
       "      <td>8.896384e-04</td>\n",
       "      <td>0.348620</td>\n",
       "      <td>0.071171</td>\n",
       "      <td>80</td>\n",
       "      <td>999</td>\n",
       "    </tr>\n",
       "    <tr>\n",
       "      <th>242165</th>\n",
       "      <td>29_26613748_G_A</td>\n",
       "      <td>Interval_473761:29:26612589:26613846:+:1258</td>\n",
       "      <td>25.297522</td>\n",
       "      <td>4.913395e-07</td>\n",
       "      <td>4.913395e-07</td>\n",
       "      <td>0.193459</td>\n",
       "      <td>0.000046</td>\n",
       "      <td>94</td>\n",
       "      <td>1</td>\n",
       "    </tr>\n",
       "  </tbody>\n",
       "</table>\n",
       "</div>"
      ],
      "text/plain": [
       "                   snps                                         gene  \\\n",
       "93686   16_66892200_C_T  Interval_236125:16:66899407:66900829:+:1423   \n",
       "194900  24_45921124_A_T  Interval_414074:24:45910745:45912002:+:1258   \n",
       "242165  29_26613748_G_A  Interval_473761:29:26612589:26613846:+:1258   \n",
       "\n",
       "        statistic        pvalue           FDR      beta        BF  TESTS  \\\n",
       "93686    9.051045  2.625447e-03  2.625447e-03  0.296784  0.036756     14   \n",
       "194900  11.044226  8.896384e-04  8.896384e-04  0.348620  0.071171     80   \n",
       "242165  25.297522  4.913395e-07  4.913395e-07  0.193459  0.000046     94   \n",
       "\n",
       "        coloc  \n",
       "93686     999  \n",
       "194900    999  \n",
       "242165      1  "
      ]
     },
     "execution_count": 33,
     "metadata": {},
     "output_type": "execute_result"
    }
   ],
   "source": [
    "atac_sig[atac_sig.coloc>0]"
   ]
  },
  {
   "cell_type": "code",
   "execution_count": 34,
   "id": "08369049-402a-4cda-8058-9021ff0b5d5a",
   "metadata": {},
   "outputs": [
    {
     "name": "stdout",
     "output_type": "stream",
     "text": [
      "P value: 0.003\n"
     ]
    }
   ],
   "source": [
    "## permuatation test 1\n",
    "\n",
    "permute = []\n",
    "for i in range(2000):\n",
    "    s = sum(atac.sample(N)['coloc'] > 0)\n",
    "    permute.append(s)\n",
    "\n",
    "permute = np.array(permute)\n",
    "\n",
    "print( f'P value: {(permute >= n_coloc).mean()}')"
   ]
  },
  {
   "cell_type": "code",
   "execution_count": 35,
   "id": "154e698d-b469-4b9c-b4ed-ae1203667bc1",
   "metadata": {},
   "outputs": [
    {
     "name": "stdout",
     "output_type": "stream",
     "text": [
      "P value: 0.002\n"
     ]
    }
   ],
   "source": [
    "## permuatation test 2\n",
    "\n",
    "permute = []\n",
    "for i in range(2000):\n",
    "    s = sum(atac.sample(N)['coloc'] > 0)\n",
    "    permute.append(s)\n",
    "\n",
    "permute = np.array(permute)\n",
    "\n",
    "print( f'P value: {(permute >= n_coloc).mean()}')"
   ]
  },
  {
   "cell_type": "code",
   "execution_count": 17,
   "id": "2540294e-7dc2-4d10-809d-2e75f7b13c73",
   "metadata": {},
   "outputs": [
    {
     "name": "stdout",
     "output_type": "stream",
     "text": [
      "P value: 0.0035\n"
     ]
    }
   ],
   "source": [
    "## permuatation test 3\n",
    "\n",
    "permute = []\n",
    "for i in range(2000):\n",
    "    s = sum(atac.sample(N)['coloc'] > 0)\n",
    "    permute.append(s)\n",
    "\n",
    "permute = np.array(permute)\n",
    "\n",
    "print( f'P value: {(permute >= n_coloc).mean()}')"
   ]
  },
  {
   "cell_type": "code",
   "execution_count": null,
   "id": "f70b56d4-5bc9-4274-a219-d8c16dde440f",
   "metadata": {},
   "outputs": [],
   "source": []
  },
  {
   "cell_type": "code",
   "execution_count": 18,
   "id": "7b82bc2a-2315-431f-9277-767607e192ee",
   "metadata": {},
   "outputs": [],
   "source": [
    "### fold change enrichment\n",
    "\n",
    "ratio_coloc = (atac_sig.coloc > 0).sum()/ len(atac_sig)\n",
    "\n",
    "ratio_pop = (atac.coloc > 0).sum()/ len(atac)\n",
    "\n"
   ]
  },
  {
   "cell_type": "code",
   "execution_count": 19,
   "id": "1d2491e1-6378-47a2-9961-4495040fa5a7",
   "metadata": {},
   "outputs": [
    {
     "name": "stdout",
     "output_type": "stream",
     "text": [
      "N coloc: 3\n",
      "N random match: 425\n",
      "Odd ratio: 10.197978609625668\n"
     ]
    }
   ],
   "source": [
    "print(f'N coloc: {(atac_sig.coloc > 0).sum()}')\n",
    "print(f'N random match: {(atac.coloc > 0).sum()}')\n",
    "print(f'Odd ratio: {ratio_coloc/ratio_pop}')"
   ]
  },
  {
   "cell_type": "code",
   "execution_count": 37,
   "id": "efeba47a-a6a7-4a80-9f7f-695a4a2956e6",
   "metadata": {},
   "outputs": [
    {
     "name": "stdout",
     "output_type": "stream",
     "text": [
      "coloc rate:  3/220\n",
      "coloc rate:  1.3636363636363635\n"
     ]
    }
   ],
   "source": [
    "\n",
    "print(f'coloc rate:  {(atac_sig.coloc > 0).sum()}/{len(atac_sig)}')\n",
    "print(f'coloc rate:  {(atac_sig.coloc > 0).sum()/len(atac_sig)*100}')"
   ]
  },
  {
   "cell_type": "code",
   "execution_count": 38,
   "id": "f35c2891-41cc-4a5c-b4ad-4dc406a5c28f",
   "metadata": {},
   "outputs": [
    {
     "name": "stdout",
     "output_type": "stream",
     "text": [
      "base rate:  425/317837\n",
      "base rate:  0.1337163388781042\n"
     ]
    }
   ],
   "source": [
    "\n",
    "print(f'base rate:  {(atac.coloc > 0).sum()}/{len(atac)}')\n",
    "print(f'base rate:  {(atac.coloc > 0).sum()/len(atac)*100}')"
   ]
  },
  {
   "cell_type": "code",
   "execution_count": null,
   "id": "c7857b46-8181-4705-a66b-7a4aefe1da29",
   "metadata": {},
   "outputs": [],
   "source": []
  },
  {
   "cell_type": "code",
   "execution_count": null,
   "id": "211c4848",
   "metadata": {},
   "outputs": [],
   "source": []
  },
  {
   "cell_type": "code",
   "execution_count": null,
   "id": "8b6919f2",
   "metadata": {},
   "outputs": [],
   "source": []
  },
  {
   "cell_type": "code",
   "execution_count": null,
   "id": "541b8480",
   "metadata": {},
   "outputs": [],
   "source": []
  },
  {
   "cell_type": "code",
   "execution_count": null,
   "id": "5781a1fe",
   "metadata": {},
   "outputs": [],
   "source": []
  },
  {
   "cell_type": "code",
   "execution_count": null,
   "id": "7ac70882",
   "metadata": {},
   "outputs": [],
   "source": []
  },
  {
   "cell_type": "code",
   "execution_count": null,
   "id": "5aee76d1",
   "metadata": {},
   "outputs": [],
   "source": []
  }
 ],
 "metadata": {
  "kernelspec": {
   "display_name": "base",
   "language": "python",
   "name": "python3"
  },
  "language_info": {
   "codemirror_mode": {
    "name": "ipython",
    "version": 3
   },
   "file_extension": ".py",
   "mimetype": "text/x-python",
   "name": "python",
   "nbconvert_exporter": "python",
   "pygments_lexer": "ipython3",
   "version": "3.10.11"
  }
 },
 "nbformat": 4,
 "nbformat_minor": 5
}
