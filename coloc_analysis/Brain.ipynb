{
 "cells": [
  {
   "cell_type": "code",
   "execution_count": 1,
   "id": "f5261aec-6352-4c2f-8855-0de8ca571c77",
   "metadata": {},
   "outputs": [],
   "source": [
    "import pandas as pd\n",
    "import numpy as np\n",
    "from utils import *"
   ]
  },
  {
   "cell_type": "code",
   "execution_count": 2,
   "id": "afd2b14d-05a6-4181-a80b-034af8e95333",
   "metadata": {},
   "outputs": [],
   "source": [
    "tis = 'brain'"
   ]
  },
  {
   "cell_type": "code",
   "execution_count": 3,
   "id": "0339c9e8-46ab-41e4-9464-5219d4b1b445",
   "metadata": {},
   "outputs": [],
   "source": [
    "ld_file = f'{tis}.ld'"
   ]
  },
  {
   "cell_type": "code",
   "execution_count": 4,
   "id": "d997c0d7-dea0-47c9-9b99-9eccc0ff6d7b",
   "metadata": {},
   "outputs": [],
   "source": [
    "atac_res=f'../data/randomized_tie_lead_snps/{tis}_atac_randomized_tie_lead_snp.txt'\n",
    "rna_res=f'../data/randomized_tie_lead_snps/{tis}_rna_randomized_tie_lead_snp.txt'\n"
   ]
  },
  {
   "cell_type": "code",
   "execution_count": 5,
   "id": "9bbecfbb-42f2-4965-880b-388c1d8f8b43",
   "metadata": {},
   "outputs": [],
   "source": [
    "ld_dict = read_ld(ld_file)"
   ]
  },
  {
   "cell_type": "code",
   "execution_count": 6,
   "id": "f4c0fcce-45fa-4f08-a31e-e7e34acb4eb1",
   "metadata": {},
   "outputs": [],
   "source": [
    "atac = pd.read_csv(atac_res, sep = '\\t')\n",
    "rna = pd.read_csv(rna_res, sep = '\\t')"
   ]
  },
  {
   "cell_type": "code",
   "execution_count": 7,
   "id": "8bc104e1-d7e2-47b1-8dbe-45530fc247de",
   "metadata": {},
   "outputs": [],
   "source": [
    "rna_sig = rna[rna['BF'] < 0.1]"
   ]
  },
  {
   "cell_type": "code",
   "execution_count": 8,
   "id": "8a69d933-eb50-4785-9b85-04ecc3f105d1",
   "metadata": {},
   "outputs": [],
   "source": [
    "check_set = set(rna_sig['snps'])"
   ]
  },
  {
   "cell_type": "code",
   "execution_count": 9,
   "id": "64882ffa-452d-4729-a6ad-5f7bb41cb246",
   "metadata": {},
   "outputs": [],
   "source": [
    "def get_coloc(df, ld_dict):\n",
    "    res = []\n",
    "    for index, row in df.iterrows():\n",
    "        res.append(check_coloc(row.snps, check_set, ld_dict))\n",
    "    df['coloc'] = res\n",
    "    return df"
   ]
  },
  {
   "cell_type": "code",
   "execution_count": 10,
   "id": "a697f737-61c0-4c20-a470-e22c1a7bd7bc",
   "metadata": {},
   "outputs": [],
   "source": [
    "atac = get_coloc(atac, ld_dict)"
   ]
  },
  {
   "cell_type": "code",
   "execution_count": 11,
   "id": "b0c6d9d7-92d0-4b37-b3ed-719a028ba7eb",
   "metadata": {},
   "outputs": [],
   "source": [
    "atac_sig = atac[atac['BF'] < 0.1]"
   ]
  },
  {
   "cell_type": "code",
   "execution_count": 12,
   "id": "4cd355ef-4a1d-401c-9d7b-67f6f7730205",
   "metadata": {},
   "outputs": [],
   "source": [
    "n_coloc = (atac_sig.coloc > 0).sum()"
   ]
  },
  {
   "cell_type": "code",
   "execution_count": 13,
   "id": "496d558e-3e08-46e7-8212-c347010003fc",
   "metadata": {},
   "outputs": [],
   "source": [
    "N = len(atac_sig)"
   ]
  },
  {
   "cell_type": "code",
   "execution_count": 14,
   "id": "2f0b1c66-7a11-4c9c-8c35-1213abc5e12a",
   "metadata": {},
   "outputs": [
    {
     "data": {
      "text/html": [
       "<div>\n",
       "<style scoped>\n",
       "    .dataframe tbody tr th:only-of-type {\n",
       "        vertical-align: middle;\n",
       "    }\n",
       "\n",
       "    .dataframe tbody tr th {\n",
       "        vertical-align: top;\n",
       "    }\n",
       "\n",
       "    .dataframe thead th {\n",
       "        text-align: right;\n",
       "    }\n",
       "</style>\n",
       "<table border=\"1\" class=\"dataframe\">\n",
       "  <thead>\n",
       "    <tr style=\"text-align: right;\">\n",
       "      <th></th>\n",
       "      <th>snps</th>\n",
       "      <th>gene</th>\n",
       "      <th>statistic</th>\n",
       "      <th>pvalue</th>\n",
       "      <th>FDR</th>\n",
       "      <th>beta</th>\n",
       "      <th>BF</th>\n",
       "      <th>TESTS</th>\n",
       "      <th>coloc</th>\n",
       "    </tr>\n",
       "  </thead>\n",
       "  <tbody>\n",
       "    <tr>\n",
       "      <th>1499</th>\n",
       "      <td>11_14885943_A_T</td>\n",
       "      <td>Interval_40183:11:14889125:14891165:+:2041</td>\n",
       "      <td>23.518509</td>\n",
       "      <td>0.000001</td>\n",
       "      <td>0.000001</td>\n",
       "      <td>0.887759</td>\n",
       "      <td>0.000127</td>\n",
       "      <td>103</td>\n",
       "      <td>999</td>\n",
       "    </tr>\n",
       "    <tr>\n",
       "      <th>28145</th>\n",
       "      <td>13_81449812_C_T</td>\n",
       "      <td>Interval_76990:13:81453838:81456204:+:2367</td>\n",
       "      <td>12.121537</td>\n",
       "      <td>0.000498</td>\n",
       "      <td>0.000498</td>\n",
       "      <td>0.220939</td>\n",
       "      <td>0.019937</td>\n",
       "      <td>40</td>\n",
       "      <td>1</td>\n",
       "    </tr>\n",
       "    <tr>\n",
       "      <th>63312</th>\n",
       "      <td>1_20350941_A_T</td>\n",
       "      <td>Interval_2321:1:20339001:20340997:+:1997</td>\n",
       "      <td>17.364253</td>\n",
       "      <td>0.000031</td>\n",
       "      <td>0.000031</td>\n",
       "      <td>0.801060</td>\n",
       "      <td>0.002037</td>\n",
       "      <td>66</td>\n",
       "      <td>1</td>\n",
       "    </tr>\n",
       "    <tr>\n",
       "      <th>63315</th>\n",
       "      <td>1_20361101_C_G</td>\n",
       "      <td>Interval_2325:1:20355048:20355860:+:813</td>\n",
       "      <td>11.947898</td>\n",
       "      <td>0.000547</td>\n",
       "      <td>0.000547</td>\n",
       "      <td>0.212419</td>\n",
       "      <td>0.030090</td>\n",
       "      <td>55</td>\n",
       "      <td>2</td>\n",
       "    </tr>\n",
       "    <tr>\n",
       "      <th>68885</th>\n",
       "      <td>1_67680621_T_C</td>\n",
       "      <td>Interval_9003:1:67680261:67681284:+:1024</td>\n",
       "      <td>14.126897</td>\n",
       "      <td>0.000171</td>\n",
       "      <td>0.000171</td>\n",
       "      <td>0.794091</td>\n",
       "      <td>0.007519</td>\n",
       "      <td>44</td>\n",
       "      <td>999</td>\n",
       "    </tr>\n",
       "    <tr>\n",
       "      <th>157999</th>\n",
       "      <td>7_57222194_C_G</td>\n",
       "      <td>Interval_301408:7:57221765:57222335:+:571</td>\n",
       "      <td>13.241498</td>\n",
       "      <td>0.000274</td>\n",
       "      <td>0.000274</td>\n",
       "      <td>0.182215</td>\n",
       "      <td>0.013143</td>\n",
       "      <td>48</td>\n",
       "      <td>1</td>\n",
       "    </tr>\n",
       "  </tbody>\n",
       "</table>\n",
       "</div>"
      ],
      "text/plain": [
       "                   snps                                        gene  \\\n",
       "1499    11_14885943_A_T  Interval_40183:11:14889125:14891165:+:2041   \n",
       "28145   13_81449812_C_T  Interval_76990:13:81453838:81456204:+:2367   \n",
       "63312    1_20350941_A_T    Interval_2321:1:20339001:20340997:+:1997   \n",
       "63315    1_20361101_C_G     Interval_2325:1:20355048:20355860:+:813   \n",
       "68885    1_67680621_T_C    Interval_9003:1:67680261:67681284:+:1024   \n",
       "157999   7_57222194_C_G   Interval_301408:7:57221765:57222335:+:571   \n",
       "\n",
       "        statistic    pvalue       FDR      beta        BF  TESTS  coloc  \n",
       "1499    23.518509  0.000001  0.000001  0.887759  0.000127    103    999  \n",
       "28145   12.121537  0.000498  0.000498  0.220939  0.019937     40      1  \n",
       "63312   17.364253  0.000031  0.000031  0.801060  0.002037     66      1  \n",
       "63315   11.947898  0.000547  0.000547  0.212419  0.030090     55      2  \n",
       "68885   14.126897  0.000171  0.000171  0.794091  0.007519     44    999  \n",
       "157999  13.241498  0.000274  0.000274  0.182215  0.013143     48      1  "
      ]
     },
     "execution_count": 14,
     "metadata": {},
     "output_type": "execute_result"
    }
   ],
   "source": [
    "atac_sig[atac_sig.coloc>0]"
   ]
  },
  {
   "cell_type": "code",
   "execution_count": 15,
   "id": "08369049-402a-4cda-8058-9021ff0b5d5a",
   "metadata": {},
   "outputs": [
    {
     "name": "stdout",
     "output_type": "stream",
     "text": [
      "P value: 0.0\n"
     ]
    }
   ],
   "source": [
    "## permuatation test 1\n",
    "\n",
    "permute = []\n",
    "for i in range(2000):\n",
    "    s = sum(atac.sample(N)['coloc'] > 0)\n",
    "    permute.append(s)\n",
    "\n",
    "permute = np.array(permute)\n",
    "\n",
    "print( f'P value: {(permute >= n_coloc).mean()}')"
   ]
  },
  {
   "cell_type": "code",
   "execution_count": 16,
   "id": "154e698d-b469-4b9c-b4ed-ae1203667bc1",
   "metadata": {},
   "outputs": [
    {
     "name": "stdout",
     "output_type": "stream",
     "text": [
      "P value: 0.0\n"
     ]
    }
   ],
   "source": [
    "## permuatation test 2\n",
    "\n",
    "permute = []\n",
    "for i in range(2000):\n",
    "    s = sum(atac.sample(N)['coloc'] > 0)\n",
    "    permute.append(s)\n",
    "\n",
    "permute = np.array(permute)\n",
    "\n",
    "print( f'P value: {(permute >= n_coloc).mean()}')"
   ]
  },
  {
   "cell_type": "code",
   "execution_count": 17,
   "id": "2540294e-7dc2-4d10-809d-2e75f7b13c73",
   "metadata": {},
   "outputs": [
    {
     "name": "stdout",
     "output_type": "stream",
     "text": [
      "P value: 0.0005\n"
     ]
    }
   ],
   "source": [
    "## permuatation test 3\n",
    "\n",
    "permute = []\n",
    "for i in range(2000):\n",
    "    s = sum(atac.sample(N)['coloc'] > 0)\n",
    "    permute.append(s)\n",
    "\n",
    "permute = np.array(permute)\n",
    "\n",
    "print( f'P value: {(permute >= n_coloc).mean()}')"
   ]
  },
  {
   "cell_type": "code",
   "execution_count": null,
   "id": "f70b56d4-5bc9-4274-a219-d8c16dde440f",
   "metadata": {},
   "outputs": [],
   "source": []
  },
  {
   "cell_type": "code",
   "execution_count": 18,
   "id": "7b82bc2a-2315-431f-9277-767607e192ee",
   "metadata": {},
   "outputs": [],
   "source": [
    "### fold change enrichment\n",
    "\n",
    "ratio_coloc = (atac_sig.coloc > 0).sum()/ len(atac_sig)\n",
    "\n",
    "ratio_pop = (atac.coloc > 0).sum()/ len(atac)\n",
    "\n"
   ]
  },
  {
   "cell_type": "code",
   "execution_count": 19,
   "id": "1d2491e1-6378-47a2-9961-4495040fa5a7",
   "metadata": {},
   "outputs": [
    {
     "name": "stdout",
     "output_type": "stream",
     "text": [
      "N coloc: 6\n",
      "N random match: 323\n",
      "Odd ratio: 6.415410262516716\n"
     ]
    }
   ],
   "source": [
    "print(f'N coloc: {(atac_sig.coloc > 0).sum()}')\n",
    "print(f'N random match: {(atac.coloc > 0).sum()}')\n",
    "print(f'Odd ratio: {ratio_coloc/ratio_pop}')"
   ]
  },
  {
   "cell_type": "code",
   "execution_count": 20,
   "id": "efeba47a-a6a7-4a80-9f7f-695a4a2956e6",
   "metadata": {},
   "outputs": [
    {
     "name": "stdout",
     "output_type": "stream",
     "text": [
      "coloc rate:  6/507\n",
      "coloc rate:  1.183431952662722\n"
     ]
    }
   ],
   "source": [
    "\n",
    "print(f'coloc rate:  {(atac_sig.coloc > 0).sum()}/{len(atac_sig)}')\n",
    "print(f'coloc rate:  {(atac_sig.coloc > 0).sum()/len(atac_sig)*100}')"
   ]
  },
  {
   "cell_type": "code",
   "execution_count": 21,
   "id": "f35c2891-41cc-4a5c-b4ad-4dc406a5c28f",
   "metadata": {},
   "outputs": [
    {
     "name": "stdout",
     "output_type": "stream",
     "text": [
      "base rate:  323/175099\n",
      "base rate:  0.18446707291303777\n"
     ]
    }
   ],
   "source": [
    "\n",
    "print(f'base rate:  {(atac.coloc > 0).sum()}/{len(atac)}')\n",
    "print(f'base rate:  {(atac.coloc > 0).sum()/len(atac)*100}')"
   ]
  },
  {
   "cell_type": "code",
   "execution_count": null,
   "id": "c7857b46-8181-4705-a66b-7a4aefe1da29",
   "metadata": {},
   "outputs": [],
   "source": []
  },
  {
   "cell_type": "code",
   "execution_count": null,
   "id": "211c4848",
   "metadata": {},
   "outputs": [],
   "source": []
  }
 ],
 "metadata": {
  "kernelspec": {
   "display_name": "base",
   "language": "python",
   "name": "python3"
  },
  "language_info": {
   "codemirror_mode": {
    "name": "ipython",
    "version": 3
   },
   "file_extension": ".py",
   "mimetype": "text/x-python",
   "name": "python",
   "nbconvert_exporter": "python",
   "pygments_lexer": "ipython3",
   "version": "3.10.11"
  }
 },
 "nbformat": 4,
 "nbformat_minor": 5
}
