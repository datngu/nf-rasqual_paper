{
 "cells": [
  {
   "cell_type": "code",
   "execution_count": 3,
   "id": "05f2f26c-d7e9-40ac-869e-6e9bfc915283",
   "metadata": {},
   "outputs": [],
   "source": [
    "import pandas as pd\n",
    "import numpy as np\n",
    "import matplotlib.pyplot as plt\n",
    "import random\n",
    "from statsmodels.stats.proportion import proportions_ztest\n"
   ]
  },
  {
   "cell_type": "code",
   "execution_count": 4,
   "id": "701d83fd-5092-4bf3-80c3-e90040b0375e",
   "metadata": {},
   "outputs": [],
   "source": [
    "#tis = 'liver'\n",
    "def get_ratio(df):\n",
    "    tem = df[df.disrupted == 1]\n",
    "    print(len(np.unique(tem.snp)))\n",
    "    print(len(np.unique(df.snp)))\n",
    "    return len(np.unique(tem.snp))/len(np.unique(df.snp))\n",
    "\n",
    "def get_disrupt(df):\n",
    "    tem = df[df.disrupted == 1]\n",
    "    return tem"
   ]
  },
  {
   "cell_type": "code",
   "execution_count": 65,
   "id": "7b534cfd-a47c-4469-930a-795814ecc631",
   "metadata": {},
   "outputs": [],
   "source": [
    "def process_tissue(tis, n_motif = 746):\n",
    "    df = pd.read_csv(f'data/lead_snp_discruption/{tis.lower()}_disrupted.csv.gz')\n",
    "    bed = pd.read_csv(f'data/randomized_tie_lead_snps/{tis}_atac_randomized_tie_lead_snp.txt', sep='\\t')\n",
    "    bed.columns = ['snp', 'gene', 'statistic', 'pvalue', 'FDR', 'beta', 'BF', 'TESTS']\n",
    "    bed_sig = bed[bed.BF < 0.1]\n",
    "    bed_null = bed[bed.BF >= 0.1]\n",
    "    null_df = df[df.snp.isin(bed_null.snp)]\n",
    "    sig_df = df[df.snp.isin(bed_sig.snp)]\n",
    "    dis_null = get_disrupt(null_df)\n",
    "    dis_sig = get_disrupt(sig_df)\n",
    "    \n",
    "    null_rate = len(dis_null)/len(bed_null.snp.unique())\n",
    "    sig_rate = len(dis_sig)/len(bed_sig.snp.unique())\n",
    "    \n",
    "    print(f'sig: {sig_rate}')\n",
    "    print(f'null: {null_rate}')\n",
    "\n",
    "    success_null = len(dis_null)\n",
    "    sucess_sig = len(dis_sig)\n",
    "    \n",
    "    trial_null = (len(bed_null.snp.unique())*n_motif)\n",
    "    trial_sig = (len(bed_sig.snp.unique())*n_motif)\n",
    "    \n",
    "    successes = [success_null, sucess_sig] \n",
    "    trials = [trial_null, trial_sig]\n",
    "    \n",
    "    \n",
    "    # Perform the z-test for proportions\n",
    "    stat, p_value = proportions_ztest(successes, trials)\n",
    "    print(f\"Z-statistic: {stat:.4f}\")\n",
    "    print(f\"P-value: {p_value}\")\n",
    "    print(successes)\n",
    "    print(trials)\n",
    "    out1=f'data/lead_snp_discruption/{tis.lower()}_sig_disrupted.csv'\n",
    "    out2=f'data/lead_snp_discruption/{tis.lower()}_null_disrupted.csv'\n",
    "    dis_sig.to_csv(out1, index=False)\n",
    "    dis_null.to_csv(out2, index=False)\n",
    "    return null_rate, sig_rate, p_value\n",
    "    "
   ]
  },
  {
   "cell_type": "code",
   "execution_count": 66,
   "id": "5478e821-f80d-433c-b29b-4c30b118b37d",
   "metadata": {},
   "outputs": [
    {
     "name": "stdout",
     "output_type": "stream",
     "text": [
      "sig: 1.1106719367588933\n",
      "null: 0.9963202707421235\n",
      "Z-statistic: -2.5739\n",
      "P-value: 0.010056624032892956\n",
      "[148376, 562]\n",
      "[111097304, 377476]\n"
     ]
    }
   ],
   "source": [
    "brain_all, brain_sig, brain_p = process_tissue('brain')"
   ]
  },
  {
   "cell_type": "code",
   "execution_count": 67,
   "id": "4b41c3dc-5f55-4030-8f05-16c1ee41087f",
   "metadata": {},
   "outputs": [
    {
     "data": {
      "text/plain": [
       "148924.0"
      ]
     },
     "execution_count": 67,
     "metadata": {},
     "output_type": "execute_result"
    }
   ],
   "source": [
    "111097304/746"
   ]
  },
  {
   "cell_type": "code",
   "execution_count": 68,
   "id": "823a3ea4-c0c9-4c05-8b62-b3183aeb17da",
   "metadata": {},
   "outputs": [
    {
     "data": {
      "text/plain": [
       "0.9963202707421235"
      ]
     },
     "execution_count": 68,
     "metadata": {},
     "output_type": "execute_result"
    }
   ],
   "source": [
    "148376/148924.0"
   ]
  },
  {
   "cell_type": "code",
   "execution_count": 69,
   "id": "90c7b894-d0f0-43ed-9834-34b7662a92ec",
   "metadata": {},
   "outputs": [
    {
     "name": "stdout",
     "output_type": "stream",
     "text": [
      "sig: 0.9863636363636363\n",
      "null: 0.9956480163199388\n",
      "Z-statistic: 0.1380\n",
      "P-value: 0.8902099754247292\n",
      "[234271, 217]\n",
      "[175530070, 164120]\n"
     ]
    }
   ],
   "source": [
    "gonad_all, gonad_sig, gonad_p = process_tissue('gonad')"
   ]
  },
  {
   "cell_type": "code",
   "execution_count": 70,
   "id": "8157aec9-d940-424a-8b62-997bdbc0019d",
   "metadata": {},
   "outputs": [
    {
     "data": {
      "text/plain": [
       "235295.0"
      ]
     },
     "execution_count": 70,
     "metadata": {},
     "output_type": "execute_result"
    }
   ],
   "source": [
    "175530070/746"
   ]
  },
  {
   "cell_type": "code",
   "execution_count": 71,
   "id": "73e6a9ec-d3d4-44da-ac83-1b0d080c3649",
   "metadata": {},
   "outputs": [
    {
     "name": "stdout",
     "output_type": "stream",
     "text": [
      "sig: 1.1862745098039216\n",
      "null: 1.0037865395947019\n",
      "Z-statistic: -3.1854\n",
      "P-value: 0.0014455123780315019\n",
      "[195904, 363]\n",
      "[145593090, 228276]\n"
     ]
    }
   ],
   "source": [
    "liver_all, liver_sig, liver_p = process_tissue('liver')"
   ]
  },
  {
   "cell_type": "code",
   "execution_count": 72,
   "id": "74057d61-5d3a-4eab-abf3-a7b6eef1609c",
   "metadata": {},
   "outputs": [
    {
     "data": {
      "text/plain": [
       "195165.0"
      ]
     },
     "execution_count": 72,
     "metadata": {},
     "output_type": "execute_result"
    }
   ],
   "source": [
    "145593090/746"
   ]
  },
  {
   "cell_type": "code",
   "execution_count": 73,
   "id": "3a5cefb7-8124-455f-a79b-dab4b0f611d9",
   "metadata": {},
   "outputs": [
    {
     "data": {
      "text/plain": [
       "0.9962277442012414"
      ]
     },
     "execution_count": 73,
     "metadata": {},
     "output_type": "execute_result"
    }
   ],
   "source": [
    "195165.0/195904"
   ]
  },
  {
   "cell_type": "code",
   "execution_count": 74,
   "id": "e1c62157-8982-49ef-91f6-7403a234f208",
   "metadata": {},
   "outputs": [
    {
     "name": "stdout",
     "output_type": "stream",
     "text": [
      "sig: 1.2442748091603053\n",
      "null: 1.0039657769676995\n",
      "Z-statistic: -2.7459\n",
      "P-value: 0.006033656980611078\n",
      "[241259, 163]\n",
      "[179268276, 97726]\n"
     ]
    }
   ],
   "source": [
    "muscle_all, muscle_sig, muscle_p = process_tissue('muscle')"
   ]
  },
  {
   "cell_type": "code",
   "execution_count": 75,
   "id": "0bc6d2de-a411-4e74-9b71-6623e305eceb",
   "metadata": {},
   "outputs": [
    {
     "data": {
      "text/plain": [
       "240306.0"
      ]
     },
     "execution_count": 75,
     "metadata": {},
     "output_type": "execute_result"
    }
   ],
   "source": [
    "179268276/746"
   ]
  },
  {
   "cell_type": "code",
   "execution_count": 76,
   "id": "b125233a-a8c6-4ab0-b44b-35b0581b84b0",
   "metadata": {},
   "outputs": [
    {
     "data": {
      "text/plain": [
       "131.0"
      ]
     },
     "execution_count": 76,
     "metadata": {},
     "output_type": "execute_result"
    }
   ],
   "source": [
    "97726/746 #muscle"
   ]
  },
  {
   "cell_type": "code",
   "execution_count": 77,
   "id": "c663f707-8c98-4afd-b100-d25870d2c771",
   "metadata": {},
   "outputs": [
    {
     "data": {
      "text/plain": [
       "306.0"
      ]
     },
     "execution_count": 77,
     "metadata": {},
     "output_type": "execute_result"
    }
   ],
   "source": [
    "228276/746 #liver"
   ]
  },
  {
   "cell_type": "code",
   "execution_count": 78,
   "id": "92b6d7e3-ddea-4f25-90a2-380fedca74cb",
   "metadata": {},
   "outputs": [
    {
     "data": {
      "text/plain": [
       "220.0"
      ]
     },
     "execution_count": 78,
     "metadata": {},
     "output_type": "execute_result"
    }
   ],
   "source": [
    "164120/746 #gonad"
   ]
  },
  {
   "cell_type": "code",
   "execution_count": 79,
   "id": "a428ed85-e83c-43be-817c-7d3c3e32a2be",
   "metadata": {},
   "outputs": [
    {
     "data": {
      "text/plain": [
       "506.0"
      ]
     },
     "execution_count": 79,
     "metadata": {},
     "output_type": "execute_result"
    }
   ],
   "source": [
    "377476/746 #brain"
   ]
  },
  {
   "cell_type": "code",
   "execution_count": null,
   "id": "6fdd70ea-e8b4-47c5-b302-20c1f647f07c",
   "metadata": {},
   "outputs": [],
   "source": []
  },
  {
   "cell_type": "code",
   "execution_count": 80,
   "id": "01c25e14-fe6b-4f29-a52d-6e471c7abd16",
   "metadata": {},
   "outputs": [
    {
     "data": {
      "image/png": "[encoded data removed]",
      "text/plain": [
       "<Figure size 800x600 with 1 Axes>"
      ]
     },
     "metadata": {},
     "output_type": "display_data"
    }
   ],
   "source": [
    "import matplotlib.pyplot as plt\n",
    "import numpy as np\n",
    "\n",
    "# Data values\n",
    "categories = ['Brain', 'Gonad', 'Liver', 'Muscle']\n",
    "all_counts = [brain_all, gonad_all, liver_all, muscle_all]\n",
    "sig_counts = [brain_sig, gonad_sig, liver_sig, muscle_sig]\n",
    "p_values = [brain_p, gonad_p, liver_p, muscle_p]\n",
    "\n",
    "# Bar width and positions\n",
    "bar_width = 0.4\n",
    "x = np.arange(len(categories))\n",
    "\n",
    "# Create the bar plot\n",
    "plt.figure(figsize=(8, 6))\n",
    "bars1 = plt.bar(x - bar_width/2, all_counts, width=bar_width, label='Non-significant caQTL', color='skyblue')\n",
    "bars2 = plt.bar(x + bar_width/2, sig_counts, width=bar_width, label='Significant caQTL', color='salmon')\n",
    "\n",
    "# Add p-value annotations\n",
    "for i in range(len(categories)):\n",
    "    # Format p-value with scientific notation if very small\n",
    "    if p_values[i] < 0.001:\n",
    "        p_text = f'p = {p_values[i]:.2e}'\n",
    "    else:\n",
    "        p_text = f'p = {p_values[i]:.3f}'\n",
    "        \n",
    "    # Get the height of the taller bar for each category\n",
    "    height = max(all_counts[i], sig_counts[i])\n",
    "    \n",
    "    # Add text above the bars - shifted right by adding bar_width/2 to x[i]\n",
    "    plt.text(x[i] + bar_width/2, height + height*0.01, p_text, \n",
    "             ha='center', va='bottom', fontsize=8)\n",
    "\n",
    "# Labels and titles\n",
    "plt.xticks(x, categories)\n",
    "plt.ylabel('Mean disruption per variant')\n",
    "plt.title('')\n",
    "plt.legend()\n",
    "\n",
    "# Adjust layout to prevent text cutoff\n",
    "plt.tight_layout()\n",
    "\n",
    "# Save the plot\n",
    "plt.savefig(\"Fig4.pdf\", format='pdf')\n",
    "\n",
    "# Display the plot\n",
    "plt.show()\n"
   ]
  },
  {
   "cell_type": "code",
   "execution_count": 82,
   "id": "6b212b22-9120-4eb2-8d7a-acd216b268a2",
   "metadata": {},
   "outputs": [],
   "source": [
    "# Create a dictionary with the data\n",
    "data = {\n",
    "    'Tissue': categories,\n",
    "    'Mean_discruption_all_peaks': all_counts,\n",
    "    'Mean_discruption_significant_peaks': sig_counts,\n",
    "    'P_values': p_values\n",
    "}\n",
    "\n",
    "# Create a DataFrame\n",
    "df = pd.DataFrame(data)\n",
    "\n",
    "# Write to CSV\n",
    "df.to_csv('data/tissue_discuptions.csv', index=False)"
   ]
  },
  {
   "cell_type": "code",
   "execution_count": null,
   "id": "5b482107-f2b8-469c-a1df-8820561c669f",
   "metadata": {},
   "outputs": [],
   "source": []
  }
 ],
 "metadata": {
  "kernelspec": {
   "display_name": "Python 3 (ipykernel)",
   "language": "python",
   "name": "python3"
  },
  "language_info": {
   "codemirror_mode": {
    "name": "ipython",
    "version": 3
   },
   "file_extension": ".py",
   "mimetype": "text/x-python",
   "name": "python",
   "nbconvert_exporter": "python",
   "pygments_lexer": "ipython3",
   "version": "3.10.11"
  }
 },
 "nbformat": 4,
 "nbformat_minor": 5
}
